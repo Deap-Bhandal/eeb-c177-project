{
 "cells": [
  {
   "cell_type": "code",
   "execution_count": 1,
   "metadata": {},
   "outputs": [],
   "source": [
    "# importing pandas, setting tmp_data for pandas to read csv file, then transfering file to numpy as data.\n",
    "import pandas as pd\n",
    "tmp_data = pd.read_csv('Dataset.csv')\n",
    "data = tmp_data.to_numpy()"
   ]
  },
  {
   "cell_type": "code",
   "execution_count": 4,
   "metadata": {},
   "outputs": [
    {
     "name": "stdout",
     "output_type": "stream",
     "text": [
      "> <ipython-input-4-630d0990e13c>(10)unique()\n",
      "-> for ii in cols:\n",
      "(Pdb) unique_list\n",
      "[]\n",
      "(Pdb) n\n",
      "> <ipython-input-4-630d0990e13c>(12)unique()\n",
      "-> if ii not in unique_list:\n",
      "(Pdb) unique_list\n",
      "[]\n",
      "(Pdb) n\n",
      "> <ipython-input-4-630d0990e13c>(13)unique()\n",
      "-> unique_list.append(ii)\n",
      "(Pdb) unique_list\n",
      "[]\n",
      "(Pdb) n\n",
      "> <ipython-input-4-630d0990e13c>(10)unique()\n",
      "-> for ii in cols:\n",
      "(Pdb) unique_list\n",
      "['Baja']\n",
      "(Pdb) c\n",
      "['Baja', 'Mexico', 'Texas', 'Florida', 'Costa Rica (Mothers)', 'Honduras', 'Belize', nan, 'Cuba', 'South Carolina', 'Louisiana', 'North Carolina']\n"
     ]
    }
   ],
   "source": [
    "# setting up a function that will print only the unique names from the Location list\n",
    "def unique(num): \n",
    "    assert num >= 0, \"Input a column number\"\n",
    "    # Creating a list called cols that contains all the data from the col\n",
    "    cols = (data[:, num]).tolist()\n",
    "    # new empty list\n",
    "    unique_list = [] \n",
    "    import pdb; pdb.set_trace()\n",
    "    # for any city in col\n",
    "    for ii in cols: \n",
    "        # it will be appended to list if it's not in unique list\n",
    "        if ii not in unique_list: \n",
    "            unique_list.append(ii) \n",
    "    # returns the list\n",
    "    return unique_list\n",
    "\n",
    "# testing the function with my data\n",
    "print(unique(1)) # seeing the unique locations"
   ]
  }
 ],
 "metadata": {
  "kernelspec": {
   "display_name": "Python 3",
   "language": "python",
   "name": "python3"
  },
  "language_info": {
   "codemirror_mode": {
    "name": "ipython",
    "version": 3
   },
   "file_extension": ".py",
   "mimetype": "text/x-python",
   "name": "python",
   "nbconvert_exporter": "python",
   "pygments_lexer": "ipython3",
   "version": "3.7.5"
  }
 },
 "nbformat": 4,
 "nbformat_minor": 2
}
